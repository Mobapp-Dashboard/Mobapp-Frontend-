{
 "cells": [
  {
   "cell_type": "code",
   "execution_count": 1,
   "metadata": {},
   "outputs": [],
   "source": [
    "import psycopg2 as ps"
   ]
  },
  {
   "cell_type": "code",
   "execution_count": 2,
   "metadata": {},
   "outputs": [],
   "source": [
    "conn = ps.connect(dbname=\"app\",\n",
    "                  user=\"postgres\",\n",
    "                  password=\"monografia\",\n",
    "                  host=\"mobapp_db_1\")\n",
    "cur = conn.cursor()"
   ]
  },
  {
   "cell_type": "raw",
   "metadata": {},
   "source": [
    "Tabela Pai:\n",
    "'line_id' : Int (Categorico)\n",
    "'journey_id' : String (8x Char) (Categorico)\n",
    "'time_frame' : timestamp (YYYY-MM-DD)\n",
    "'vehicle_journey_id' : Int (Categorico)\n",
    "'operator': String (2x Char) (Categorico)\n",
    "'vehicle_id': Int (Categorico)\n",
    "(CHAVE PRIMARIA) trajectory_ID\n",
    "Tabela Filha:\n",
    "(CHAVE EXTRANGEIRA) trajectory_ID\n",
    "INT: year, month, day, hour, minute\n",
    "FLOAT: speed, acceleration, dist_old_point, time_old_point, lat, lng, lat_mercator, lng_mercator"
   ]
  },
  {
   "cell_type": "raw",
   "metadata": {},
   "source": [
    "query = \"CREATE SEQUENCE autoincrement\";\n",
    "cur.execute(query)"
   ]
  },
  {
   "cell_type": "code",
   "execution_count": 3,
   "metadata": {},
   "outputs": [],
   "source": [
    "cur.execute(\"CREATE TABLE Dublin (trajectory_Id SERIAL PRIMARY KEY, line_id int, journey_id varchar,\\\n",
    "    time_frame timestamp, vehicle_journey_id int, operator varchar, vehicle_id int, trajectory_size numeric);\")\n",
    "\n",
    "\n"
   ]
  },
  {
   "cell_type": "code",
   "execution_count": 4,
   "metadata": {},
   "outputs": [],
   "source": [
    "cur.execute(\"CREATE TABLE Dublin_trajectories (id SERIAL PRIMARY KEY, trajectory_id int,instant timestamp, lat numeric,lng numeric, lat_mercator numeric, lng_mercator numeric, speed numeric, acceleration numeric, position numeric, delta_dist numeric, delta_time numeric, bearing numeric, year int, month int, day int, hour int, miniute int, stop_labels int, constraint fk_trajectories_dublin foreign key (trajectory_id) REFERENCES Dublin (trajectory_id));\")\n",
    "# cur.execute(\"CREATE TABLE Dublin_trajectories (id SERIAL PRIMARY KEY, trajectory_id int not null, lat numeric,constraint fk_trajectories_dublin foreign key (trajectory_id) REFERENCES Dublin (trajectory_id));\")"
   ]
  },
  {
   "cell_type": "code",
   "execution_count": 5,
   "metadata": {},
   "outputs": [],
   "source": [
    "conn.commit()"
   ]
  }
 ],
 "metadata": {
  "kernelspec": {
   "display_name": "Python 3 (ipykernel)",
   "language": "python",
   "name": "python3"
  },
  "language_info": {
   "codemirror_mode": {
    "name": "ipython",
    "version": 3
   },
   "file_extension": ".py",
   "mimetype": "text/x-python",
   "name": "python",
   "nbconvert_exporter": "python",
   "pygments_lexer": "ipython3",
   "version": "3.7.12"
  }
 },
 "nbformat": 4,
 "nbformat_minor": 4
}
